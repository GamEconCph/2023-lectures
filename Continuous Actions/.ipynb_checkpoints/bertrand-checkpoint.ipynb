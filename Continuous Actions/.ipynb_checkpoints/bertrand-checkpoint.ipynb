{
 "cells": [
  {
   "cell_type": "markdown",
   "metadata": {},
   "source": [
    "# Differentiated Bertrand Competition\n",
    "\n",
    "A simple model of ***differentiated*** Bertrand competition (i.e. it behaves like a Cournot model, but firms are choosing prices, not quantities). \n",
    "\n",
    "**Note:** This is rather different from the ***pure Bertrand*** model. In that model, products are ***perfect substitutes*** to consumers, so they simply choose the cheapest alternative. As we shall see, the differentiated Bertrand model has quite a bit of taste heterogeneity, implying that there is no discontinuity at the minimum price. "
   ]
  },
  {
   "cell_type": "code",
   "execution_count": 1,
   "metadata": {},
   "outputs": [],
   "source": [
    "import pandas as pd \n",
    "import numpy as np \n",
    "\n",
    "import matplotlib.pyplot as plt \n",
    "\n",
    "from scipy.optimize import minimize"
   ]
  },
  {
   "cell_type": "markdown",
   "metadata": {},
   "source": [
    "# Model \n",
    "\n",
    "Firms maximize profits given by \n",
    "$$ \\pi(p^i, p^j) = s(p^i,p^j)(p^i - c), $$ \n",
    "where $c$ are symmetric marginal cost, and $(p^i,p^j)$ are the own and competitor prices, and where the market share function, $s(\\cdot,\\cdot)$, is given by \n",
    "\n",
    "$$ s^1(p^1,p^2) = \\frac{\\exp(\\gamma_1 - \\delta_1 p^1)}{1 + \\exp(\\gamma_1 - \\delta_1 p^1) + \\exp(\\gamma_2 - \\delta_2 p^2)}. $$\n",
    "\n",
    "Conveniently, we may choose to *max rescale* the utilities. Denote \n",
    "$$ v_{i0} \\equiv 0, v_{i1} \\equiv \\gamma_1 - \\delta_1 p^1, v_{i2} \\equiv \\gamma_2 - \\delta_2. $$\n",
    "Then we can use that \n",
    "$$ \\frac{\\exp(v_{ij})}{\\sum_{k=0}^2 \\exp(v_{ik})} = \\frac{\\exp(v_{ij} - M)}{\\sum_{k=0}^2 \\exp(v_{ik} - M)} \\quad \\text{for any } M \\in \\mathbb{R}.$$\n",
    "This equality holds analytically, but there is a numerical difference: since round-up errors are much worse for our applications, it is better to have small numbers enter into the exponential functions. Hence, we can e.g. set \n",
    "$$M := \\max_{k=0,1,2} v_i{ik},$$\n",
    "and then we will only ever have round-down errors. \n",
    "\n",
    "## Where does this come from? \n",
    "This comes from a model where the consumer gets indirect utility \n",
    "$$ u_{ij} = 1 - \\delta^j p^j + \\varepsilon_{ij}$$ \n",
    "from choosing products $j = 1,2$, but gets \n",
    "$$ u_{i0} = \\varepsilon_{ij}$$ \n",
    "from choosing the outside option, where \n",
    "$$ \\varepsilon_{ij} \\sim \\text{IID Extreme Value Type I}. $$ \n",
    "Under this assumption on the error term, it can be shown that the probability that consumer $i$ chooses alternative $j$ among the options $j \\in \\{0, 1, 2\\}$ takes the form given earlier, and \n",
    "$$ \\Pr(i \\text{ chooses }j = 0) = \\frac{1}{1 + \\exp(\\gamma_1 - \\delta_1 p^1) + \\exp(\\gamma_2 - \\delta_2 p^2)} $$\n",
    "(since $\\exp(0) = 1$, which appears both in the numerator and the denominator). "
   ]
  },
  {
   "cell_type": "code",
   "execution_count": 2,
   "metadata": {},
   "outputs": [],
   "source": [
    "# assign parameter values \n",
    "c = 0.5 \n",
    "gamma1 = 1.0\n",
    "gamma2 = 1.0\n",
    "delta1 = 3.0 \n",
    "delta2 = 3.0 \n",
    "\n",
    "def u(p1,p2): \n",
    "    u1 = gamma1 - delta1*p1\n",
    "    u2 = gamma2 - delta2*p2\n",
    "    return u1,u2\n",
    "\n",
    "def s(p1, p2): \n",
    "    u1,u2 = u(p1,p2)\n",
    "    \n",
    "    # max-rescaling\n",
    "    M = np.amax([0.0,u1,u2])\n",
    "    eu0 = np.exp(0.0) # outside option \n",
    "    eu1 = np.exp(u1 - M)\n",
    "    eu2 = np.exp(u2 - M)\n",
    "    \n",
    "    # denominator \n",
    "    denom = eu0 + eu1 + eu2 \n",
    "    \n",
    "    # market shares \n",
    "    s1 = eu1 / denom \n",
    "    s2 = eu2 / denom \n",
    "    \n",
    "    return s1, s2\n",
    "    \n",
    "def s1(p1, p2): \n",
    "    s1,s2 = s(p1, p2)\n",
    "    return s1,s2\n",
    "\n",
    "def pi(p1, p2, i): \n",
    "    S1,S2 = s1(p1,p2)\n",
    "    if i == 0: \n",
    "        profit = (p1 - c)*S1\n",
    "    elif i == 1: \n",
    "        profit = (p2 - c)*S2\n",
    "    else: \n",
    "        profit = np.nan \n",
    "        \n",
    "    return profit"
   ]
  },
  {
   "cell_type": "markdown",
   "metadata": {},
   "source": [
    "Compute profits to player 1 for prices (0.8, 0.9). "
   ]
  },
  {
   "cell_type": "code",
   "execution_count": 3,
   "metadata": {},
   "outputs": [
    {
     "data": {
      "text/plain": [
       "0.051759671949551465"
      ]
     },
     "execution_count": 3,
     "metadata": {},
     "output_type": "execute_result"
    }
   ],
   "source": [
    "i = 0\n",
    "pi(.8, .9, i)"
   ]
  },
  {
   "cell_type": "markdown",
   "metadata": {},
   "source": [
    "Plot payoffs for player 1 for different values of player 2's action (price). "
   ]
  },
  {
   "cell_type": "code",
   "execution_count": 4,
   "metadata": {},
   "outputs": [
    {
     "data": {
      "image/png": "[encoded data removed]",
      "text/plain": [
       "<Figure size 432x288 with 1 Axes>"
      ]
     },
     "metadata": {
      "needs_background": "light"
     },
     "output_type": "display_data"
    }
   ],
   "source": [
    "p2 = 0.8 # fix player 2's price for this plot \n",
    "\n",
    "fig, ax = plt.subplots()\n",
    "\n",
    "for p2 in [0.5, 0.9, 2.0]: \n",
    "    pp = np.linspace(c, 2., 100)\n",
    "    ff = [pi(p, p2, 0) for p in pp]\n",
    "    ax.plot(pp, ff, label=f'p2 = {p2}'); \n",
    "plt.xlabel('Price of firm 1'); plt.ylabel('Profit of firm 1'); \n",
    "plt.legend(title='Competitor price'); "
   ]
  },
  {
   "cell_type": "markdown",
   "metadata": {},
   "source": [
    "From the graph above, it is clear that firm 1's profit increases overall when firm 2 raises the price (because the two products are substitutes). However, the optimal price also change, although not by much. "
   ]
  },
  {
   "cell_type": "markdown",
   "metadata": {},
   "source": [
    "# Manual iterative best response\n",
    "\n",
    "**Proposition:** The firms will always choose a price $p^i \\in (c; \\infty)$. \n",
    "\n",
    "**Proof:** Given our game setup, we know that for $p^i \\le c$, we will have $\\pi^i \\le 0$. Similarly, due to the demand function, when $p^i \\to \\infty$, the market share will tend to zero, $ s^i \\to 0$. However, since the profit is a product then, $\\pi^i = (s^i - c)p^i$, it depends on the relative speed of $p^i \\to \\infty$  and $ s^i \\to 0$ which one will dominate. However, it turns out that the latter dominates so that $ \\pi^i \\to 0$  as $p^i \\to \\infty$. \n",
    "\n",
    "**Best response:** We cannot generally solve the profit maximization problem in the same way as we did with a simple linear demand curve. However, there is nothing wrong with taking `scipy.optimize.minimize` for a spin! We just have to use the negative of profits as the objective function since it is minimizing and we want to maximize profits. The algorithm then works as follows: \n",
    "1. Initialize `p2` to some value\n",
    "2. Find `p1` that minimizes `-pi(p, p2, i=0)` wrt. `p` - call the minimizer `p1`. \n",
    "3. Find `p2` that minimizes `-pi(p1, p, i=1)` wrt. `p` - call the minimizer `p2`. \n",
    "4. repeat 2-3 until nothing changes. \n",
    "\n",
    "**Equilibrium:** The pure strategy Nash equilibrium occurs when both firms are choosing a price that is a best response to the price of the competitor. "
   ]
  },
  {
   "cell_type": "code",
   "execution_count": 5,
   "metadata": {},
   "outputs": [],
   "source": [
    "# initialization \n",
    "p2 = 0.6"
   ]
  },
  {
   "cell_type": "code",
   "execution_count": 6,
   "metadata": {},
   "outputs": [],
   "source": [
    "f_ = lambda p: -pi(p, p2, i=0) # anonymous function of one variable"
   ]
  },
  {
   "cell_type": "code",
   "execution_count": 7,
   "metadata": {},
   "outputs": [
    {
     "name": "stderr",
     "output_type": "stream",
     "text": [
      "/Users/mrz577/opt/anaconda3/lib/python3.8/site-packages/numpy/core/fromnumeric.py:87: VisibleDeprecationWarning: Creating an ndarray from ragged nested sequences (which is a list-or-tuple of lists-or-tuples-or ndarrays with different lengths or shapes) is deprecated. If you meant to do this, you must specify 'dtype=object' when creating the ndarray\n",
      "  return ufunc.reduce(obj, axis, dtype, out, **passkwargs)\n"
     ]
    }
   ],
   "source": [
    "res = minimize(f_, x0=p2)"
   ]
  },
  {
   "cell_type": "code",
   "execution_count": 8,
   "metadata": {},
   "outputs": [
    {
     "name": "stdout",
     "output_type": "stream",
     "text": [
      "BR1(p2= 0.60) =  0.88\n"
     ]
    }
   ],
   "source": [
    "p1 = res['x'][0]\n",
    "print(f'BR1(p2={p2:5.2f}) = {p1:5.2f}')"
   ]
  },
  {
   "cell_type": "code",
   "execution_count": 9,
   "metadata": {},
   "outputs": [
    {
     "name": "stdout",
     "output_type": "stream",
     "text": [
      "BR2(p1= 0.88) =  0.89\n"
     ]
    }
   ],
   "source": [
    "f_ = lambda p: -pi(p1, p, i=1)\n",
    "res = minimize(f_, x0=p2)\n",
    "p2 = res['x'][0]\n",
    "print(f'BR2(p1={p1:5.2f}) = {p2:5.2f}')"
   ]
  },
  {
   "cell_type": "markdown",
   "metadata": {},
   "source": [
    "Now, we have taken the first two steps in the **iterated best response algorithm**. Continuing is left as an exercise to you. "
   ]
  }
 ],
 "metadata": {
  "kernelspec": {
   "display_name": "Python 3",
   "language": "python",
   "name": "python3"
  },
  "language_info": {
   "codemirror_mode": {
    "name": "ipython",
    "version": 3
   },
   "file_extension": ".py",
   "mimetype": "text/x-python",
   "name": "python",
   "nbconvert_exporter": "python",
   "pygments_lexer": "ipython3",
   "version": "3.8.2"
  }
 },
 "nbformat": 4,
 "nbformat_minor": 4
}
